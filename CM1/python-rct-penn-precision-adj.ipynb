{
  "cells": [
    {
      "cell_type": "markdown",
      "metadata": {
        "id": "rzn3xV2ScXXN",
        "papermill": {
          "duration": 0.013538,
          "end_time": "2021-02-20T13:42:41.189745",
          "exception": false,
          "start_time": "2021-02-20T13:42:41.176207",
          "status": "completed"
        },
        "tags": []
      },
      "source": [
        "# Analyzing RCT data with Precision Adjustment"
      ]
    },
    {
      "cell_type": "code",
      "execution_count": 1,
      "metadata": {
        "id": "StJRPl8Lcsdd"
      },
      "outputs": [],
      "source": [
        "import pandas as pd\n",
        "import numpy as np\n",
        "import patsy\n",
        "import statsmodels.formula.api as smf\n",
        "import statsmodels.api as sm"
      ]
    },
    {
      "cell_type": "markdown",
      "metadata": {
        "id": "U1aS4EabcXXr",
        "papermill": {
          "duration": 0.011347,
          "end_time": "2021-02-20T13:42:41.213041",
          "exception": false,
          "start_time": "2021-02-20T13:42:41.201694",
          "status": "completed"
        },
        "tags": []
      },
      "source": [
        "## Data\n",
        "\n",
        "In this lab, we analyze the Pennsylvania re-employment bonus experiment, which was previously studied in \"Sequential testing of duration data: the case of the Pennsylvania ‘reemployment bonus’ experiment\" (Bilias, 2000), among others. These experiments were conducted in the 1980s by the U.S. Department of Labor to test the incentive effects of alternative compensation schemes for unemployment insurance (UI). In these experiments, UI claimants were randomly assigned either to a control group or one of six treatment groups. Here we focus on treatment group 4, but feel free to explore other treatment groups. In the control group the current rules of UI applied. Individuals in the treatment groups were offered a cash bonus if they found a job within some pre-specified period of time (qualification period), provided that the job was retained for a specified duration. The treatments differed in the level of the bonus, the length of the qualification period, and whether the bonus was declining over time in the qualification period; see http://qed.econ.queensu.ca/jae/2000-v15.6/bilias/readme.b.txt for further details on data.\n",
        "  "
      ]
    },
    {
      "cell_type": "code",
      "execution_count": 2,
      "metadata": {
        "id": "2qKDD0hecXX4",
        "papermill": {
          "duration": 0.279482,
          "end_time": "2021-02-20T13:42:41.503829",
          "exception": false,
          "start_time": "2021-02-20T13:42:41.224347",
          "status": "completed"
        },
        "tags": [],
        "outputId": "677ea507-3c3d-4fdb-bec4-afa909c1197f",
        "colab": {
          "base_uri": "https://localhost:8080/"
        }
      },
      "outputs": [
        {
          "output_type": "stream",
          "name": "stderr",
          "text": [
            "<ipython-input-2-c62976242921>:1: FutureWarning: The 'delim_whitespace' keyword in pd.read_csv is deprecated and will be removed in a future version. Use ``sep='\\s+'`` instead\n",
            "  data = pd.read_csv(\"https://raw.githubusercontent.com/VC2015/DMLonGitHub/master/penn_jae.dat\", delim_whitespace=True)\n"
          ]
        }
      ],
      "source": [
        "data = pd.read_csv(\"https://raw.githubusercontent.com/VC2015/DMLonGitHub/master/penn_jae.dat\", delim_whitespace=True)\n",
        "n, p = data.shape\n",
        "data = data[data[\"tg\"].isin([0, 4])]"
      ]
    },
    {
      "cell_type": "code",
      "execution_count": 3,
      "metadata": {
        "id": "CWoXcstjcXX6",
        "papermill": {
          "duration": 0.065266,
          "end_time": "2021-02-20T13:42:41.580972",
          "exception": false,
          "start_time": "2021-02-20T13:42:41.515706",
          "status": "completed"
        },
        "tags": [],
        "outputId": "675e3a23-6656-4354-aef7-7c49b0886f4f",
        "colab": {
          "base_uri": "https://localhost:8080/",
          "height": 178
        }
      },
      "outputs": [
        {
          "output_type": "execute_result",
          "data": {
            "text/plain": [
              "T4\n",
              "0    3354\n",
              "1    1745\n",
              "Name: count, dtype: int64"
            ],
            "text/html": [
              "<div>\n",
              "<style scoped>\n",
              "    .dataframe tbody tr th:only-of-type {\n",
              "        vertical-align: middle;\n",
              "    }\n",
              "\n",
              "    .dataframe tbody tr th {\n",
              "        vertical-align: top;\n",
              "    }\n",
              "\n",
              "    .dataframe thead th {\n",
              "        text-align: right;\n",
              "    }\n",
              "</style>\n",
              "<table border=\"1\" class=\"dataframe\">\n",
              "  <thead>\n",
              "    <tr style=\"text-align: right;\">\n",
              "      <th></th>\n",
              "      <th>count</th>\n",
              "    </tr>\n",
              "    <tr>\n",
              "      <th>T4</th>\n",
              "      <th></th>\n",
              "    </tr>\n",
              "  </thead>\n",
              "  <tbody>\n",
              "    <tr>\n",
              "      <th>0</th>\n",
              "      <td>3354</td>\n",
              "    </tr>\n",
              "    <tr>\n",
              "      <th>1</th>\n",
              "      <td>1745</td>\n",
              "    </tr>\n",
              "  </tbody>\n",
              "</table>\n",
              "</div><br><label><b>dtype:</b> int64</label>"
            ]
          },
          "metadata": {},
          "execution_count": 3
        }
      ],
      "source": [
        "data[\"T4\"] = np.where(data[\"tg\"] == 4, 1, 0)\n",
        "data[\"T4\"].value_counts()"
      ]
    },
    {
      "cell_type": "code",
      "execution_count": 4,
      "metadata": {
        "id": "5q2hZMxScXX8",
        "papermill": {
          "duration": 0.053285,
          "end_time": "2021-02-20T13:42:41.646704",
          "exception": false,
          "start_time": "2021-02-20T13:42:41.593419",
          "status": "completed"
        },
        "tags": [],
        "outputId": "cf382763-fef3-4cd1-da03-d6b39ccfef2a",
        "colab": {
          "base_uri": "https://localhost:8080/",
          "height": 349
        }
      },
      "outputs": [
        {
          "output_type": "execute_result",
          "data": {
            "text/plain": [
              "               abdt           tg     inuidur1     inuidur2       female  \\\n",
              "count   5099.000000  5099.000000  5099.000000  5099.000000  5099.000000   \n",
              "mean   10695.416356     1.368896    13.052952    12.281232     0.404001   \n",
              "std      111.180503     1.898003    10.565602    10.362143     0.490746   \n",
              "min    10404.000000     0.000000     1.000000     0.000000     0.000000   \n",
              "25%    10600.000000     0.000000     3.000000     2.000000     0.000000   \n",
              "50%    10698.000000     0.000000    11.000000    10.000000     0.000000   \n",
              "75%    10796.000000     4.000000    25.000000    23.000000     1.000000   \n",
              "max    10880.000000     4.000000    52.000000    52.000000     1.000000   \n",
              "\n",
              "             black     hispanic      othrace          dep           q1  ...  \\\n",
              "count  5099.000000  5099.000000  5099.000000  5099.000000  5099.000000  ...   \n",
              "mean      0.121985     0.032555     0.007256     0.439694     0.012748  ...   \n",
              "std       0.327300     0.177487     0.084883     0.757622     0.112194  ...   \n",
              "min       0.000000     0.000000     0.000000     0.000000     0.000000  ...   \n",
              "25%       0.000000     0.000000     0.000000     0.000000     0.000000  ...   \n",
              "50%       0.000000     0.000000     0.000000     0.000000     0.000000  ...   \n",
              "75%       0.000000     0.000000     0.000000     1.000000     0.000000  ...   \n",
              "max       1.000000     1.000000     1.000000     2.000000     1.000000  ...   \n",
              "\n",
              "                q6       recall      agelt35      agegt54      durable  \\\n",
              "count  5099.000000  5099.000000  5099.000000  5099.000000  5099.000000   \n",
              "mean      0.062954     0.110414     0.545009     0.109433     0.148068   \n",
              "std       0.242903     0.313436     0.498019     0.312213     0.355202   \n",
              "min       0.000000     0.000000     0.000000     0.000000     0.000000   \n",
              "25%       0.000000     0.000000     0.000000     0.000000     0.000000   \n",
              "50%       0.000000     0.000000     1.000000     0.000000     0.000000   \n",
              "75%       0.000000     0.000000     1.000000     0.000000     0.000000   \n",
              "max       1.000000     1.000000     1.000000     1.000000     1.000000   \n",
              "\n",
              "        nondurable         lusd         husd         muld           T4  \n",
              "count  5099.000000  5099.000000  5099.000000  5099.000000  5099.000000  \n",
              "mean      0.109237     0.261032     0.218670     0.444205     0.342224  \n",
              "std       0.311967     0.439240     0.413385     0.496926     0.474501  \n",
              "min       0.000000     0.000000     0.000000     0.000000     0.000000  \n",
              "25%       0.000000     0.000000     0.000000     0.000000     0.000000  \n",
              "50%       0.000000     0.000000     0.000000     0.000000     0.000000  \n",
              "75%       0.000000     1.000000     0.000000     1.000000     1.000000  \n",
              "max       1.000000     1.000000     1.000000     1.000000     1.000000  \n",
              "\n",
              "[8 rows x 24 columns]"
            ],
            "text/html": [
              "\n",
              "  <div id=\"df-83e3c9ee-9939-4d06-9cb7-8205554d24ce\" class=\"colab-df-container\">\n",
              "    <div>\n",
              "<style scoped>\n",
              "    .dataframe tbody tr th:only-of-type {\n",
              "        vertical-align: middle;\n",
              "    }\n",
              "\n",
              "    .dataframe tbody tr th {\n",
              "        vertical-align: top;\n",
              "    }\n",
              "\n",
              "    .dataframe thead th {\n",
              "        text-align: right;\n",
              "    }\n",
              "</style>\n",
              "<table border=\"1\" class=\"dataframe\">\n",
              "  <thead>\n",
              "    <tr style=\"text-align: right;\">\n",
              "      <th></th>\n",
              "      <th>abdt</th>\n",
              "      <th>tg</th>\n",
              "      <th>inuidur1</th>\n",
              "      <th>inuidur2</th>\n",
              "      <th>female</th>\n",
              "      <th>black</th>\n",
              "      <th>hispanic</th>\n",
              "      <th>othrace</th>\n",
              "      <th>dep</th>\n",
              "      <th>q1</th>\n",
              "      <th>...</th>\n",
              "      <th>q6</th>\n",
              "      <th>recall</th>\n",
              "      <th>agelt35</th>\n",
              "      <th>agegt54</th>\n",
              "      <th>durable</th>\n",
              "      <th>nondurable</th>\n",
              "      <th>lusd</th>\n",
              "      <th>husd</th>\n",
              "      <th>muld</th>\n",
              "      <th>T4</th>\n",
              "    </tr>\n",
              "  </thead>\n",
              "  <tbody>\n",
              "    <tr>\n",
              "      <th>count</th>\n",
              "      <td>5099.000000</td>\n",
              "      <td>5099.000000</td>\n",
              "      <td>5099.000000</td>\n",
              "      <td>5099.000000</td>\n",
              "      <td>5099.000000</td>\n",
              "      <td>5099.000000</td>\n",
              "      <td>5099.000000</td>\n",
              "      <td>5099.000000</td>\n",
              "      <td>5099.000000</td>\n",
              "      <td>5099.000000</td>\n",
              "      <td>...</td>\n",
              "      <td>5099.000000</td>\n",
              "      <td>5099.000000</td>\n",
              "      <td>5099.000000</td>\n",
              "      <td>5099.000000</td>\n",
              "      <td>5099.000000</td>\n",
              "      <td>5099.000000</td>\n",
              "      <td>5099.000000</td>\n",
              "      <td>5099.000000</td>\n",
              "      <td>5099.000000</td>\n",
              "      <td>5099.000000</td>\n",
              "    </tr>\n",
              "    <tr>\n",
              "      <th>mean</th>\n",
              "      <td>10695.416356</td>\n",
              "      <td>1.368896</td>\n",
              "      <td>13.052952</td>\n",
              "      <td>12.281232</td>\n",
              "      <td>0.404001</td>\n",
              "      <td>0.121985</td>\n",
              "      <td>0.032555</td>\n",
              "      <td>0.007256</td>\n",
              "      <td>0.439694</td>\n",
              "      <td>0.012748</td>\n",
              "      <td>...</td>\n",
              "      <td>0.062954</td>\n",
              "      <td>0.110414</td>\n",
              "      <td>0.545009</td>\n",
              "      <td>0.109433</td>\n",
              "      <td>0.148068</td>\n",
              "      <td>0.109237</td>\n",
              "      <td>0.261032</td>\n",
              "      <td>0.218670</td>\n",
              "      <td>0.444205</td>\n",
              "      <td>0.342224</td>\n",
              "    </tr>\n",
              "    <tr>\n",
              "      <th>std</th>\n",
              "      <td>111.180503</td>\n",
              "      <td>1.898003</td>\n",
              "      <td>10.565602</td>\n",
              "      <td>10.362143</td>\n",
              "      <td>0.490746</td>\n",
              "      <td>0.327300</td>\n",
              "      <td>0.177487</td>\n",
              "      <td>0.084883</td>\n",
              "      <td>0.757622</td>\n",
              "      <td>0.112194</td>\n",
              "      <td>...</td>\n",
              "      <td>0.242903</td>\n",
              "      <td>0.313436</td>\n",
              "      <td>0.498019</td>\n",
              "      <td>0.312213</td>\n",
              "      <td>0.355202</td>\n",
              "      <td>0.311967</td>\n",
              "      <td>0.439240</td>\n",
              "      <td>0.413385</td>\n",
              "      <td>0.496926</td>\n",
              "      <td>0.474501</td>\n",
              "    </tr>\n",
              "    <tr>\n",
              "      <th>min</th>\n",
              "      <td>10404.000000</td>\n",
              "      <td>0.000000</td>\n",
              "      <td>1.000000</td>\n",
              "      <td>0.000000</td>\n",
              "      <td>0.000000</td>\n",
              "      <td>0.000000</td>\n",
              "      <td>0.000000</td>\n",
              "      <td>0.000000</td>\n",
              "      <td>0.000000</td>\n",
              "      <td>0.000000</td>\n",
              "      <td>...</td>\n",
              "      <td>0.000000</td>\n",
              "      <td>0.000000</td>\n",
              "      <td>0.000000</td>\n",
              "      <td>0.000000</td>\n",
              "      <td>0.000000</td>\n",
              "      <td>0.000000</td>\n",
              "      <td>0.000000</td>\n",
              "      <td>0.000000</td>\n",
              "      <td>0.000000</td>\n",
              "      <td>0.000000</td>\n",
              "    </tr>\n",
              "    <tr>\n",
              "      <th>25%</th>\n",
              "      <td>10600.000000</td>\n",
              "      <td>0.000000</td>\n",
              "      <td>3.000000</td>\n",
              "      <td>2.000000</td>\n",
              "      <td>0.000000</td>\n",
              "      <td>0.000000</td>\n",
              "      <td>0.000000</td>\n",
              "      <td>0.000000</td>\n",
              "      <td>0.000000</td>\n",
              "      <td>0.000000</td>\n",
              "      <td>...</td>\n",
              "      <td>0.000000</td>\n",
              "      <td>0.000000</td>\n",
              "      <td>0.000000</td>\n",
              "      <td>0.000000</td>\n",
              "      <td>0.000000</td>\n",
              "      <td>0.000000</td>\n",
              "      <td>0.000000</td>\n",
              "      <td>0.000000</td>\n",
              "      <td>0.000000</td>\n",
              "      <td>0.000000</td>\n",
              "    </tr>\n",
              "    <tr>\n",
              "      <th>50%</th>\n",
              "      <td>10698.000000</td>\n",
              "      <td>0.000000</td>\n",
              "      <td>11.000000</td>\n",
              "      <td>10.000000</td>\n",
              "      <td>0.000000</td>\n",
              "      <td>0.000000</td>\n",
              "      <td>0.000000</td>\n",
              "      <td>0.000000</td>\n",
              "      <td>0.000000</td>\n",
              "      <td>0.000000</td>\n",
              "      <td>...</td>\n",
              "      <td>0.000000</td>\n",
              "      <td>0.000000</td>\n",
              "      <td>1.000000</td>\n",
              "      <td>0.000000</td>\n",
              "      <td>0.000000</td>\n",
              "      <td>0.000000</td>\n",
              "      <td>0.000000</td>\n",
              "      <td>0.000000</td>\n",
              "      <td>0.000000</td>\n",
              "      <td>0.000000</td>\n",
              "    </tr>\n",
              "    <tr>\n",
              "      <th>75%</th>\n",
              "      <td>10796.000000</td>\n",
              "      <td>4.000000</td>\n",
              "      <td>25.000000</td>\n",
              "      <td>23.000000</td>\n",
              "      <td>1.000000</td>\n",
              "      <td>0.000000</td>\n",
              "      <td>0.000000</td>\n",
              "      <td>0.000000</td>\n",
              "      <td>1.000000</td>\n",
              "      <td>0.000000</td>\n",
              "      <td>...</td>\n",
              "      <td>0.000000</td>\n",
              "      <td>0.000000</td>\n",
              "      <td>1.000000</td>\n",
              "      <td>0.000000</td>\n",
              "      <td>0.000000</td>\n",
              "      <td>0.000000</td>\n",
              "      <td>1.000000</td>\n",
              "      <td>0.000000</td>\n",
              "      <td>1.000000</td>\n",
              "      <td>1.000000</td>\n",
              "    </tr>\n",
              "    <tr>\n",
              "      <th>max</th>\n",
              "      <td>10880.000000</td>\n",
              "      <td>4.000000</td>\n",
              "      <td>52.000000</td>\n",
              "      <td>52.000000</td>\n",
              "      <td>1.000000</td>\n",
              "      <td>1.000000</td>\n",
              "      <td>1.000000</td>\n",
              "      <td>1.000000</td>\n",
              "      <td>2.000000</td>\n",
              "      <td>1.000000</td>\n",
              "      <td>...</td>\n",
              "      <td>1.000000</td>\n",
              "      <td>1.000000</td>\n",
              "      <td>1.000000</td>\n",
              "      <td>1.000000</td>\n",
              "      <td>1.000000</td>\n",
              "      <td>1.000000</td>\n",
              "      <td>1.000000</td>\n",
              "      <td>1.000000</td>\n",
              "      <td>1.000000</td>\n",
              "      <td>1.000000</td>\n",
              "    </tr>\n",
              "  </tbody>\n",
              "</table>\n",
              "<p>8 rows × 24 columns</p>\n",
              "</div>\n",
              "    <div class=\"colab-df-buttons\">\n",
              "\n",
              "  <div class=\"colab-df-container\">\n",
              "    <button class=\"colab-df-convert\" onclick=\"convertToInteractive('df-83e3c9ee-9939-4d06-9cb7-8205554d24ce')\"\n",
              "            title=\"Convert this dataframe to an interactive table.\"\n",
              "            style=\"display:none;\">\n",
              "\n",
              "  <svg xmlns=\"http://www.w3.org/2000/svg\" height=\"24px\" viewBox=\"0 -960 960 960\">\n",
              "    <path d=\"M120-120v-720h720v720H120Zm60-500h600v-160H180v160Zm220 220h160v-160H400v160Zm0 220h160v-160H400v160ZM180-400h160v-160H180v160Zm440 0h160v-160H620v160ZM180-180h160v-160H180v160Zm440 0h160v-160H620v160Z\"/>\n",
              "  </svg>\n",
              "    </button>\n",
              "\n",
              "  <style>\n",
              "    .colab-df-container {\n",
              "      display:flex;\n",
              "      gap: 12px;\n",
              "    }\n",
              "\n",
              "    .colab-df-convert {\n",
              "      background-color: #E8F0FE;\n",
              "      border: none;\n",
              "      border-radius: 50%;\n",
              "      cursor: pointer;\n",
              "      display: none;\n",
              "      fill: #1967D2;\n",
              "      height: 32px;\n",
              "      padding: 0 0 0 0;\n",
              "      width: 32px;\n",
              "    }\n",
              "\n",
              "    .colab-df-convert:hover {\n",
              "      background-color: #E2EBFA;\n",
              "      box-shadow: 0px 1px 2px rgba(60, 64, 67, 0.3), 0px 1px 3px 1px rgba(60, 64, 67, 0.15);\n",
              "      fill: #174EA6;\n",
              "    }\n",
              "\n",
              "    .colab-df-buttons div {\n",
              "      margin-bottom: 4px;\n",
              "    }\n",
              "\n",
              "    [theme=dark] .colab-df-convert {\n",
              "      background-color: #3B4455;\n",
              "      fill: #D2E3FC;\n",
              "    }\n",
              "\n",
              "    [theme=dark] .colab-df-convert:hover {\n",
              "      background-color: #434B5C;\n",
              "      box-shadow: 0px 1px 3px 1px rgba(0, 0, 0, 0.15);\n",
              "      filter: drop-shadow(0px 1px 2px rgba(0, 0, 0, 0.3));\n",
              "      fill: #FFFFFF;\n",
              "    }\n",
              "  </style>\n",
              "\n",
              "    <script>\n",
              "      const buttonEl =\n",
              "        document.querySelector('#df-83e3c9ee-9939-4d06-9cb7-8205554d24ce button.colab-df-convert');\n",
              "      buttonEl.style.display =\n",
              "        google.colab.kernel.accessAllowed ? 'block' : 'none';\n",
              "\n",
              "      async function convertToInteractive(key) {\n",
              "        const element = document.querySelector('#df-83e3c9ee-9939-4d06-9cb7-8205554d24ce');\n",
              "        const dataTable =\n",
              "          await google.colab.kernel.invokeFunction('convertToInteractive',\n",
              "                                                    [key], {});\n",
              "        if (!dataTable) return;\n",
              "\n",
              "        const docLinkHtml = 'Like what you see? Visit the ' +\n",
              "          '<a target=\"_blank\" href=https://colab.research.google.com/notebooks/data_table.ipynb>data table notebook</a>'\n",
              "          + ' to learn more about interactive tables.';\n",
              "        element.innerHTML = '';\n",
              "        dataTable['output_type'] = 'display_data';\n",
              "        await google.colab.output.renderOutput(dataTable, element);\n",
              "        const docLink = document.createElement('div');\n",
              "        docLink.innerHTML = docLinkHtml;\n",
              "        element.appendChild(docLink);\n",
              "      }\n",
              "    </script>\n",
              "  </div>\n",
              "\n",
              "\n",
              "<div id=\"df-02335702-7a70-482c-9df4-9c7746e2d4ab\">\n",
              "  <button class=\"colab-df-quickchart\" onclick=\"quickchart('df-02335702-7a70-482c-9df4-9c7746e2d4ab')\"\n",
              "            title=\"Suggest charts\"\n",
              "            style=\"display:none;\">\n",
              "\n",
              "<svg xmlns=\"http://www.w3.org/2000/svg\" height=\"24px\"viewBox=\"0 0 24 24\"\n",
              "     width=\"24px\">\n",
              "    <g>\n",
              "        <path d=\"M19 3H5c-1.1 0-2 .9-2 2v14c0 1.1.9 2 2 2h14c1.1 0 2-.9 2-2V5c0-1.1-.9-2-2-2zM9 17H7v-7h2v7zm4 0h-2V7h2v10zm4 0h-2v-4h2v4z\"/>\n",
              "    </g>\n",
              "</svg>\n",
              "  </button>\n",
              "\n",
              "<style>\n",
              "  .colab-df-quickchart {\n",
              "      --bg-color: #E8F0FE;\n",
              "      --fill-color: #1967D2;\n",
              "      --hover-bg-color: #E2EBFA;\n",
              "      --hover-fill-color: #174EA6;\n",
              "      --disabled-fill-color: #AAA;\n",
              "      --disabled-bg-color: #DDD;\n",
              "  }\n",
              "\n",
              "  [theme=dark] .colab-df-quickchart {\n",
              "      --bg-color: #3B4455;\n",
              "      --fill-color: #D2E3FC;\n",
              "      --hover-bg-color: #434B5C;\n",
              "      --hover-fill-color: #FFFFFF;\n",
              "      --disabled-bg-color: #3B4455;\n",
              "      --disabled-fill-color: #666;\n",
              "  }\n",
              "\n",
              "  .colab-df-quickchart {\n",
              "    background-color: var(--bg-color);\n",
              "    border: none;\n",
              "    border-radius: 50%;\n",
              "    cursor: pointer;\n",
              "    display: none;\n",
              "    fill: var(--fill-color);\n",
              "    height: 32px;\n",
              "    padding: 0;\n",
              "    width: 32px;\n",
              "  }\n",
              "\n",
              "  .colab-df-quickchart:hover {\n",
              "    background-color: var(--hover-bg-color);\n",
              "    box-shadow: 0 1px 2px rgba(60, 64, 67, 0.3), 0 1px 3px 1px rgba(60, 64, 67, 0.15);\n",
              "    fill: var(--button-hover-fill-color);\n",
              "  }\n",
              "\n",
              "  .colab-df-quickchart-complete:disabled,\n",
              "  .colab-df-quickchart-complete:disabled:hover {\n",
              "    background-color: var(--disabled-bg-color);\n",
              "    fill: var(--disabled-fill-color);\n",
              "    box-shadow: none;\n",
              "  }\n",
              "\n",
              "  .colab-df-spinner {\n",
              "    border: 2px solid var(--fill-color);\n",
              "    border-color: transparent;\n",
              "    border-bottom-color: var(--fill-color);\n",
              "    animation:\n",
              "      spin 1s steps(1) infinite;\n",
              "  }\n",
              "\n",
              "  @keyframes spin {\n",
              "    0% {\n",
              "      border-color: transparent;\n",
              "      border-bottom-color: var(--fill-color);\n",
              "      border-left-color: var(--fill-color);\n",
              "    }\n",
              "    20% {\n",
              "      border-color: transparent;\n",
              "      border-left-color: var(--fill-color);\n",
              "      border-top-color: var(--fill-color);\n",
              "    }\n",
              "    30% {\n",
              "      border-color: transparent;\n",
              "      border-left-color: var(--fill-color);\n",
              "      border-top-color: var(--fill-color);\n",
              "      border-right-color: var(--fill-color);\n",
              "    }\n",
              "    40% {\n",
              "      border-color: transparent;\n",
              "      border-right-color: var(--fill-color);\n",
              "      border-top-color: var(--fill-color);\n",
              "    }\n",
              "    60% {\n",
              "      border-color: transparent;\n",
              "      border-right-color: var(--fill-color);\n",
              "    }\n",
              "    80% {\n",
              "      border-color: transparent;\n",
              "      border-right-color: var(--fill-color);\n",
              "      border-bottom-color: var(--fill-color);\n",
              "    }\n",
              "    90% {\n",
              "      border-color: transparent;\n",
              "      border-bottom-color: var(--fill-color);\n",
              "    }\n",
              "  }\n",
              "</style>\n",
              "\n",
              "  <script>\n",
              "    async function quickchart(key) {\n",
              "      const quickchartButtonEl =\n",
              "        document.querySelector('#' + key + ' button');\n",
              "      quickchartButtonEl.disabled = true;  // To prevent multiple clicks.\n",
              "      quickchartButtonEl.classList.add('colab-df-spinner');\n",
              "      try {\n",
              "        const charts = await google.colab.kernel.invokeFunction(\n",
              "            'suggestCharts', [key], {});\n",
              "      } catch (error) {\n",
              "        console.error('Error during call to suggestCharts:', error);\n",
              "      }\n",
              "      quickchartButtonEl.classList.remove('colab-df-spinner');\n",
              "      quickchartButtonEl.classList.add('colab-df-quickchart-complete');\n",
              "    }\n",
              "    (() => {\n",
              "      let quickchartButtonEl =\n",
              "        document.querySelector('#df-02335702-7a70-482c-9df4-9c7746e2d4ab button');\n",
              "      quickchartButtonEl.style.display =\n",
              "        google.colab.kernel.accessAllowed ? 'block' : 'none';\n",
              "    })();\n",
              "  </script>\n",
              "</div>\n",
              "\n",
              "    </div>\n",
              "  </div>\n"
            ],
            "application/vnd.google.colaboratory.intrinsic+json": {
              "type": "dataframe"
            }
          },
          "metadata": {},
          "execution_count": 4
        }
      ],
      "source": [
        "data.describe()"
      ]
    },
    {
      "cell_type": "markdown",
      "metadata": {
        "id": "bgCUMjFWcXYB",
        "papermill": {
          "duration": 0.012846,
          "end_time": "2021-02-20T13:42:41.672662",
          "exception": false,
          "start_time": "2021-02-20T13:42:41.659816",
          "status": "completed"
        },
        "tags": []
      },
      "source": [
        "### Model\n",
        "To evaluate the impact of the treatments on unemployment duration, we consider the linear regression model:\n",
        "\n",
        "$$\n",
        "Y =  D \\beta_1 + W'\\beta_2 + \\varepsilon, \\quad E \\varepsilon (D,W')' = 0,\n",
        "$$\n",
        "\n",
        "where $Y$ is  the  log of duration of unemployment, $D$ is a treatment  indicator,  and $W$ is a set of controls including age group dummies, gender, race, number of dependents, quarter of the experiment, location within the state, existence of recall expectations, and type of occupation.   Here $\\beta_1$ is the ATE, assuming the RCT assumptions hold. Within an RCT, the projection coefficient $\\beta_1$ has\n",
        "the interpretation of the causal effect of the treatment on\n",
        "the average outcome. We thus refer to $\\beta_1$ as the average\n",
        "treatment effect (ATE). Note that the covariates, here are\n",
        "independent of the treatment $D$, so we can identify $\\beta_1$ by\n",
        "just linear regression of $Y$ on $D$, without adding covariates.\n",
        "However, we do add covariates in an effort to improve the\n",
        "precision of our estimates of the average treatment effect.\n",
        "\n",
        "\n",
        "We also consider an interactive regression model:\n",
        "\n",
        "$$\n",
        "Y =  D \\alpha_1 + D W' \\alpha_2 + W'\\beta_2 + \\varepsilon, \\quad E \\varepsilon (D,W', DW')' = 0,\n",
        "$$\n",
        "where $W$'s are demeaned (apart from the intercept), so that $\\alpha_1$ is the ATE, assuming the RCT assumptions hold. Unlike the model without interactions, we are guaranteed to improve precision by considering the interactive model."
      ]
    },
    {
      "cell_type": "markdown",
      "metadata": {
        "id": "XXlBcN0ucXYC",
        "papermill": {
          "duration": 0.012728,
          "end_time": "2021-02-20T13:42:41.724182",
          "exception": false,
          "start_time": "2021-02-20T13:42:41.711454",
          "status": "completed"
        },
        "tags": []
      },
      "source": [
        "### Analysis\n",
        "\n",
        "We consider\n",
        "\n",
        "*  classical 2-sample approach, no adjustment (CL)\n",
        "*  classical linear regression adjustment (CRA)\n",
        "*  interactive regression adjusment (IRA)"
      ]
    },
    {
      "cell_type": "markdown",
      "metadata": {
        "id": "pWqd1FIJcXYD",
        "papermill": {
          "duration": 0.01276,
          "end_time": "2021-02-20T13:42:41.749736",
          "exception": false,
          "start_time": "2021-02-20T13:42:41.736976",
          "status": "completed"
        },
        "tags": []
      },
      "source": [
        "# Carry out covariate balance check\n",
        "\n",
        "\n",
        "We first look at the coefficients individually with a $t$-test, and then we adjust the $p$-values to control for family-wise error."
      ]
    },
    {
      "cell_type": "markdown",
      "metadata": {
        "id": "A3GrR6ZlcXYE",
        "papermill": {
          "duration": 0.013486,
          "end_time": "2021-02-20T13:42:41.776684",
          "exception": false,
          "start_time": "2021-02-20T13:42:41.763198",
          "status": "completed"
        },
        "tags": []
      },
      "source": [
        "The regression below is done using \"type='HC1'\" which computes the correct Eicker-Huber-White standard errors, instead of the classical non-robust formula based on homoscedasticity."
      ]
    },
    {
      "cell_type": "code",
      "execution_count": 5,
      "metadata": {
        "id": "Gh0JcsYyk0tb",
        "outputId": "097425ce-7415-4829-8e2f-b7e01243d87d",
        "colab": {
          "base_uri": "https://localhost:8080/"
        }
      },
      "outputs": [
        {
          "output_type": "execute_result",
          "data": {
            "text/plain": [
              "(5099, 120)"
            ]
          },
          "metadata": {},
          "execution_count": 5
        }
      ],
      "source": [
        "formula = (\"0 ~ \"\n",
        "           \"(female + black + othrace + C(dep) + q2 + q3 + q4 + q5 + q6 \"\n",
        "           \"+ agelt35 + agegt54 + durable + lusd + husd)**2\")\n",
        "X = patsy.dmatrix(formula, data=data, return_type='dataframe')\n",
        "X.shape"
      ]
    },
    {
      "cell_type": "markdown",
      "metadata": {
        "id": "BTnrfPdaoMj4"
      },
      "source": [
        "There is strong multicollinearity in the design matrix. In order to address this, we drop columns by thresholding using the QR decomposition."
      ]
    },
    {
      "cell_type": "code",
      "execution_count": null,
      "metadata": {
        "id": "K76SXqZ6lTlx"
      },
      "outputs": [],
      "source": [
        "def qr_decomposition(x):\n",
        "    # Get a set of columns with no linear dependence for smallest subset of observations\n",
        "    Q, Rx = np.linalg.qr(x)\n",
        "    ex = np.abs(np.diag(Rx))\n",
        "    keep = np.where(ex > 1e-6)[0]\n",
        "    xS = x.iloc[:, keep]\n",
        "\n",
        "    return xS\n",
        "\n",
        "\n",
        "xS = qr_decomposition(X)\n",
        "xS.shape"
      ]
    },
    {
      "cell_type": "code",
      "execution_count": null,
      "metadata": {
        "id": "YXHvx7VYYHE2"
      },
      "outputs": [],
      "source": [
        "# individual t-tests\n",
        "covariate_balance = sm.OLS(data[\"T4\"], xS)\n",
        "cb_fit = covariate_balance.fit(cov_type=\"HC1\", use_t=True)\n",
        "cb_fit.summary()"
      ]
    },
    {
      "cell_type": "markdown",
      "metadata": {
        "id": "GOgLqzjmM85J"
      },
      "source": [
        "To test balance conditions, we employ the Holm-Bonferroni step-down method. With 100+ hypotheses, the family-wise type I error, or the probability of making at least one type I error treating all hypotheses independently, is close to 1. To control for this, we adjust p-values with the following procedure.\n",
        "\n",
        "First, set $\\alpha=0.05$ and denote the list of $n$ p-values from the regression with the vector $p$.\n",
        "\n",
        "1. Sort $p$ from smallest to largest, so $p_{(1)} \\leq p_{(2)} \\leq \\cdots \\leq p_{(n)}$. Denote the corresponding hypothesis for $p_{(i)}$ as $H_{(i)}$.\n",
        "2. For $i=1,\\ldots, n$,\n",
        "- If $$p_{(i)} > \\frac{\\alpha}{n-i+1} $$ Break the loop and do not reject any $H_{(j)}$ for $j \\geq i$.\n",
        "- Else reject $H_{(i)}$ if $$p_{(i)} \\leq \\frac{\\alpha}{n-i+1} $$ Increment $i := i+1$.\n",
        "\n",
        "\n"
      ]
    },
    {
      "cell_type": "code",
      "execution_count": null,
      "metadata": {
        "id": "slILLJ98QUib"
      },
      "outputs": [],
      "source": [
        "def holm_bonferroni(p, alpha=0.05):\n",
        "\n",
        "    n = len(p)\n",
        "    sig_beta = []\n",
        "\n",
        "    for i in range(n):\n",
        "        if np.sort(p)[i] > alpha / (n - i):\n",
        "            break\n",
        "        else:\n",
        "            sig_beta.append(np.argsort(p)[i])\n",
        "            i += 1\n",
        "\n",
        "    return sig_beta\n",
        "\n",
        "\n",
        "print(\"Significant Coefficients (Indices): \", holm_bonferroni(cb_fit.pvalues, alpha=0.05))"
      ]
    },
    {
      "cell_type": "markdown",
      "metadata": {
        "id": "0AC_UNXGcXYF",
        "papermill": {
          "duration": 0.02549,
          "end_time": "2021-02-20T13:42:42.269256",
          "exception": false,
          "start_time": "2021-02-20T13:42:42.243766",
          "status": "completed"
        },
        "tags": []
      },
      "source": [
        "We see that that even though this is a randomized experiment, balance conditions are failed.\n",
        "<!--\n",
        "The holm method fails to reject any hypothesis. That is, we fail to reject the hypothesis that any coefficient is zero. Thus, in this randomized experiment, balance conditions are met. -->"
      ]
    },
    {
      "cell_type": "markdown",
      "metadata": {
        "id": "AlZe_Dr6cXYH",
        "papermill": {
          "duration": 0.021046,
          "end_time": "2021-02-20T13:42:42.315674",
          "exception": false,
          "start_time": "2021-02-20T13:42:42.294628",
          "status": "completed"
        },
        "tags": []
      },
      "source": [
        "# Model Specification"
      ]
    },
    {
      "cell_type": "code",
      "execution_count": null,
      "metadata": {
        "id": "CQPB5YfCcXYH",
        "papermill": {
          "duration": 0.350081,
          "end_time": "2021-02-20T13:42:42.680497",
          "exception": false,
          "start_time": "2021-02-20T13:42:42.330416",
          "status": "completed"
        },
        "tags": []
      },
      "outputs": [],
      "source": [
        "# no adjustment (2-sample approach)\n",
        "cl = smf.ols(\"np.log(inuidur1) ~ T4\", data)\n",
        "\n",
        "# adding controls\n",
        "cra = smf.ols(\"np.log(inuidur1) ~ T4 + \"\n",
        "              \"(female+black+othrace+C(dep)+q2+q3+q4+q5+q6+agelt35+agegt54+durable+lusd+husd)**2\",\n",
        "              data)\n",
        "# Omitted dummies: q1, nondurable, muld\n",
        "\n",
        "cl_results = cl.fit(cov_type=\"HC1\")\n",
        "cl_results.summary()"
      ]
    },
    {
      "cell_type": "code",
      "execution_count": null,
      "metadata": {
        "id": "EQl_YGSLNWAi"
      },
      "outputs": [],
      "source": [
        "cra_results = cra.fit(cov_type=\"HC1\")\n",
        "cra_results.summary()"
      ]
    },
    {
      "cell_type": "markdown",
      "metadata": {
        "id": "R-G1Vqo7cXYI",
        "papermill": {
          "duration": 0.02768,
          "end_time": "2021-02-20T13:42:42.735966",
          "exception": false,
          "start_time": "2021-02-20T13:42:42.708286",
          "status": "completed"
        },
        "tags": []
      },
      "source": [
        "The interactive specification corresponds to the approach introduced in Lin (2013)."
      ]
    },
    {
      "cell_type": "code",
      "execution_count": null,
      "metadata": {
        "id": "SWBol4-GcXYJ",
        "papermill": {
          "duration": 0.898452,
          "end_time": "2021-02-20T13:42:43.662684",
          "exception": false,
          "start_time": "2021-02-20T13:42:42.764232",
          "status": "completed"
        },
        "tags": []
      },
      "outputs": [],
      "source": [
        "# interactive regression model\n",
        "\n",
        "ira_formula = \"0 + (female+black+othrace+C(dep)+q2+q3+q4+q5+q6+agelt35+agegt54+durable+lusd+husd)**2\"\n",
        "X = patsy.dmatrix(ira_formula, data, return_type='dataframe')\n",
        "X.columns = [f'x{t}' for t in range(X.shape[1])]  # clean column names\n",
        "X = (X - X.mean(axis=0))  # demean all control covariates\n",
        "\n",
        "# construct interactions of treatment and (de-meaned covariates, 1)\n",
        "ira_formula = \"T4 * (\" + \"+\".join(X.columns) + \")\"\n",
        "X['T4'] = data['T4']\n",
        "X = patsy.dmatrix(ira_formula, X, return_type='dataframe')\n",
        "ira = sm.OLS(np.log(data[[\"inuidur1\"]]), X)\n",
        "ira_results = ira.fit(cov_type=\"HC1\")\n",
        "ira_results.summary()"
      ]
    },
    {
      "cell_type": "markdown",
      "metadata": {
        "id": "Ovx__MnpcXYK",
        "papermill": {
          "duration": 0.030243,
          "end_time": "2021-02-20T13:42:43.724231",
          "exception": false,
          "start_time": "2021-02-20T13:42:43.693988",
          "status": "completed"
        },
        "tags": []
      },
      "source": [
        "Next we try out partialling out with theoretically justified lasso. We use \"plug-in\" tuning with a theoretically valid choice of penalty $\\lambda = 2 \\cdot c \\hat{\\sigma} \\sqrt{n} \\Phi^{-1}(1-\\alpha/2p)$, where $c>1$ and $1-\\alpha$ is a confidence level, and $\\Phi^{-1}$ denotes the quantile function. See book for more details.\n",
        "\n",
        "We pull an analogue of R's rlasso. We find a Python code that tries to replicate the main function of hdm r-package. It was made by [Max Huppertz](https://maxhuppertz.github.io/code/). His library is this [repository](https://github.com/maxhuppertz/hdmpy). If not using colab, download its repository and copy this folder to your site-packages folder. In my case it is located here ***C:\\Python\\Python38\\Lib\\site-packages*** . We need to install this package ***pip install multiprocess***."
      ]
    },
    {
      "cell_type": "code",
      "execution_count": null,
      "metadata": {
        "id": "SRp09vViOZLR"
      },
      "outputs": [],
      "source": [
        "!pip install multiprocess\n",
        "!pip install pyreadr\n",
        "!git clone https://github.com/maxhuppertz/hdmpy.git"
      ]
    },
    {
      "cell_type": "code",
      "execution_count": null,
      "metadata": {
        "id": "zNDvJ4cAOa28"
      },
      "outputs": [],
      "source": [
        "import sys\n",
        "sys.path.insert(1, \"./hdmpy\")"
      ]
    },
    {
      "cell_type": "code",
      "execution_count": null,
      "metadata": {
        "id": "RRmXUWRmObiM"
      },
      "outputs": [],
      "source": [
        "# We wrap the package so that it has the familiar sklearn API\n",
        "import hdmpy\n",
        "from sklearn.base import BaseEstimator\n",
        "\n",
        "\n",
        "class RLasso(BaseEstimator):\n",
        "\n",
        "    def __init__(self, *, post=True):\n",
        "        self.post = post\n",
        "\n",
        "    def fit(self, X, y):\n",
        "        self.rlasso_ = hdmpy.rlasso(X, y, post=self.post)\n",
        "        return self\n",
        "\n",
        "    def predict(self, X):\n",
        "        return np.array(X) @ np.array(self.rlasso_.est['beta']).flatten() + np.array(self.rlasso_.est['intercept'])\n",
        "\n",
        "\n",
        "def lasso_model():\n",
        "    return RLasso(post=False)"
      ]
    },
    {
      "cell_type": "code",
      "execution_count": null,
      "metadata": {
        "id": "eWcw5TBncXYK",
        "papermill": {
          "duration": 1.29547,
          "end_time": "2021-02-20T13:42:45.045172",
          "exception": false,
          "start_time": "2021-02-20T13:42:43.749702",
          "status": "completed"
        },
        "tags": []
      },
      "outputs": [],
      "source": [
        "D = X['T4']\n",
        "A = X.drop('T4', axis=1)  # contains X and interaction terms D*X\n",
        "y = np.log(data[\"inuidur1\"])\n",
        "\n",
        "Dres = D - np.mean(D)\n",
        "yres = y - lasso_model().fit(A, y).predict(A)\n",
        "\n",
        "ira_lasso_results = sm.OLS(yres, Dres).fit(cov_type='HC1')\n",
        "ira_lasso_results.summary()"
      ]
    },
    {
      "cell_type": "markdown",
      "metadata": {
        "id": "TNAQW7KwcXYQ",
        "papermill": {
          "duration": 0.030965,
          "end_time": "2021-02-20T13:42:45.107753",
          "exception": false,
          "start_time": "2021-02-20T13:42:45.076788",
          "status": "completed"
        },
        "tags": []
      },
      "source": [
        "### Results"
      ]
    },
    {
      "cell_type": "code",
      "execution_count": null,
      "metadata": {
        "id": "RmPEWZXxcXYT",
        "papermill": {
          "duration": 0.113372,
          "end_time": "2021-02-20T13:42:45.304786",
          "exception": false,
          "start_time": "2021-02-20T13:42:45.191414",
          "status": "completed"
        },
        "tags": []
      },
      "outputs": [],
      "source": [
        "results = {\n",
        "    \"CL\": [cl_results.params[cl.exog_names.index(\"T4\")],\n",
        "           cl_results.HC1_se[cl.exog_names.index(\"T4\")]],\n",
        "    \"CRA\": [cra_results.params[cra.exog_names.index(\"T4\")],\n",
        "            cra_results.HC1_se[cra.exog_names.index(\"T4\")]],\n",
        "    \"IRA\": [ira_results.params[ira.exog_names.index(\"T4\")],\n",
        "            ira_results.HC1_se[ira.exog_names.index(\"T4\")]],\n",
        "    \"IRA w Lasso\": [ira_lasso_results.params[0],\n",
        "                    ira_lasso_results.bse[0]],\n",
        "}\n",
        "results = pd.DataFrame(results)\n",
        "results.index = [\"Estimate\", \"Standard Error\"]\n",
        "results\n",
        "# for printing to LaTeX: print(results.to_latex())"
      ]
    },
    {
      "cell_type": "markdown",
      "metadata": {
        "id": "tT1XCKLhcXYU",
        "papermill": {
          "duration": 0.019862,
          "end_time": "2021-02-20T13:42:45.344887",
          "exception": false,
          "start_time": "2021-02-20T13:42:45.325025",
          "status": "completed"
        },
        "tags": []
      },
      "source": [
        "Treatment group 4 experiences an average decrease of about $7.8\\%$ in the length of unemployment spell.\n",
        "\n",
        "\n",
        "Observe that regression estimators delivers estimates that are slighly more efficient (lower standard errors) than the simple 2 mean estimator, but essentially all methods have very similar standard errors. From the IRA results we also see that there is not any statistically detectable heterogeneity.  We also see the regression estimators offer slightly lower estimates -- these difference occur perhaps to due minor imbalance in the treatment allocation, which the regression estimators try to correct.\n",
        "\n",
        "\n"
      ]
    },
    {
      "cell_type": "code",
      "execution_count": null,
      "metadata": {
        "id": "odb5eio_AUfI"
      },
      "outputs": [],
      "source": []
    }
  ],
  "metadata": {
    "colab": {
      "provenance": []
    },
    "kernelspec": {
      "display_name": "Python 3 (ipykernel)",
      "language": "python",
      "name": "python3"
    },
    "language_info": {
      "codemirror_mode": {
        "name": "ipython",
        "version": 3
      },
      "file_extension": ".py",
      "mimetype": "text/x-python",
      "name": "python",
      "nbconvert_exporter": "python",
      "pygments_lexer": "ipython3",
      "version": "3.11.5"
    },
    "papermill": {
      "default_parameters": {},
      "duration": 7.178818,
      "end_time": "2021-02-20T13:42:45.473549",
      "environment_variables": {},
      "exception": null,
      "input_path": "__notebook__.ipynb",
      "output_path": "__notebook__.ipynb",
      "parameters": {},
      "start_time": "2021-02-20T13:42:38.294731",
      "version": "2.2.2"
    }
  },
  "nbformat": 4,
  "nbformat_minor": 0
}